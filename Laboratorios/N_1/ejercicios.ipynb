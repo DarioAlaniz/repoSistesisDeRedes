{
 "cells": [
  {
   "cell_type": "markdown",
   "source": [
    "## Pruebas con sympy"
   ],
   "metadata": {}
  },
  {
   "cell_type": "code",
   "execution_count": 1,
   "source": [
    "import numpy as np  #Importa libreria numerica \r\n",
    "import sympy as sym #simbolica\r\n",
    "sym.init_printing() #activa a jupyter para mostrar simbolicamente el output\r\n"
   ],
   "outputs": [],
   "metadata": {}
  },
  {
   "cell_type": "code",
   "execution_count": 156,
   "source": [
    "#Circuito Nº2\r\n",
    "Vin, Vo, Vl,V4 = sym.symbols('V_{in},V_o,V_+,V_-')\r\n",
    "Vl=V4\r\n",
    "ir1,ir2,ir3,ir4,irl=sym.symbols('I_{r1},I_{r2},I_{r3},I_{r4},I_{rl}')\r\n",
    "R1,R2,R3,R4,Rl = sym.symbols('R1,R2,R3,R4,Rl')\r\n",
    "irl = sym.Function('I_{rl}')(Vin,Rl)\r\n",
    "sym.pprint(irl)"
   ],
   "outputs": [
    {
     "output_type": "stream",
     "name": "stdout",
     "text": [
      "I_{rl}(V_{in}, Rl)\n"
     ]
    }
   ],
   "metadata": {}
  },
  {
   "cell_type": "code",
   "execution_count": 157,
   "source": [
    "#Nodo 1 ir3 = ir1 + irl \r\n",
    "eq_N1=sym.Eq(ir3,ir1+irl)\r\n",
    "sym.pprint(eq_N1)\r\n",
    "#sym.print_latex(eq_N1)\r\n",
    "ir3 = (Vin - Vl )/R3\r\n",
    "#irl = Vl/Rl\r\n",
    "ir1 = (Vl -Vo) / R1\r\n",
    "eq_N1=sym.Eq(ir3,ir1+irl)\r\n",
    "sym.pprint(eq_N1)\r\n",
    "res0 = sym.solve(eq_N1,irl)\r\n",
    "eq_N2 = sym.Eq(irl,res0[0])\r\n",
    "res1 = sym.solve(eq_N2,Vl-Vo)\r\n",
    "eq_N3 = sym.Eq(Vl-Vo,sym.expand(res1[0]))\r\n",
    "sym.pprint(eq_N3)"
   ],
   "outputs": [
    {
     "output_type": "stream",
     "name": "stdout",
     "text": [
      "I_{r3} = I_{r1} + I_{rl}(V_{in}, Rl)\n",
      "-V₋ + V_{in}                        V₋ - Vₒ\n",
      "──────────── = I_{rl}(V_{in}, Rl) + ───────\n",
      "     R₃                                R₁  \n",
      "                                   R₁⋅V₋   R₁⋅V_{in}\n",
      "V₋ - Vₒ = -R₁⋅I_{rl}(V_{in}, Rl) - ───── + ─────────\n",
      "                                     R₃        R₃   \n"
     ]
    }
   ],
   "metadata": {}
  },
  {
   "cell_type": "code",
   "execution_count": 162,
   "source": [
    "#nodo 2 ir2 = - ir4\r\n",
    "eq_N4   = sym.Eq(ir2,-ir4)\r\n",
    "sym.pprint(eq_N4)\r\n",
    "ir2     = (V4 - Vo)/R2 \r\n",
    "ir4     = V4/R4\r\n",
    "eq_N5   = sym.Eq(ir2,-ir4)\r\n",
    "sym.pprint(eq_N5)\r\n",
    "res2    = sym.solve(eq_N5,V4-Vo)\r\n",
    "eq_N6   = sym.Eq(V4-Vo,sym.expand(res2[0]))\r\n",
    "sym.pprint(eq_N6)\r\n"
   ],
   "outputs": [
    {
     "output_type": "stream",
     "name": "stdout",
     "text": [
      "V₋ - Vₒ   -V₋ \n",
      "─────── = ────\n",
      "   R₂      R₄ \n",
      "V₋ - Vₒ   -V₋ \n",
      "─────── = ────\n",
      "   R₂      R₄ \n",
      "          -R₂⋅V₋ \n",
      "V₋ - Vₒ = ───────\n",
      "             R₄  \n"
     ]
    }
   ],
   "metadata": {}
  },
  {
   "cell_type": "code",
   "execution_count": 188,
   "source": [
    "eq_f    = sym.Eq(eq_N3.rhs-eq_N6.rhs,0)\r\n",
    "sym.pprint(eq_f)\r\n",
    "eq_f    = eq_f.subs(Vl,irl*Rl)\r\n",
    "sym.pprint(eq_f)\r\n",
    "eq_f    = eq_f.subs((R2/R4),(R1/R3))\r\n",
    "sym.pprint(eq_f)\r\n",
    "res3    = sym.solve(eq_f,irl)\r\n",
    "sym.pprint(sym.expand(res3[0]))\r\n",
    "eq_ = sym.Eq(irl,res3[0])\r\n",
    "sym.pprint(eq_)"
   ],
   "outputs": [
    {
     "output_type": "stream",
     "name": "stdout",
     "text": [
      "                         R₁⋅V₋   R₁⋅V_{in}   R₂⋅V₋    \n",
      "-R₁⋅I_{rl}(V_{in}, Rl) - ───── + ───────── + ───── = 0\n",
      "                           R₃        R₃        R₄     \n",
      "                         R₁⋅Rl⋅I_{rl}(V_{in}, Rl)   R₁⋅V_{in}   R₂⋅Rl⋅I_{rl}(V\n",
      "-R₁⋅I_{rl}(V_{in}, Rl) - ──────────────────────── + ───────── + ──────────────\n",
      "                                    R₃                  R₃                 R₄ \n",
      "\n",
      "_{in}, Rl)    \n",
      "────────── = 0\n",
      "              \n",
      "                         R₁⋅V_{in}    \n",
      "-R₁⋅I_{rl}(V_{in}, Rl) + ───────── = 0\n",
      "                             R₃       \n",
      "V_{in}\n",
      "──────\n",
      "  R₃  \n",
      "                     V_{in}\n",
      "I_{rl}(V_{in}, Rl) = ──────\n",
      "                       R₃  \n"
     ]
    }
   ],
   "metadata": {}
  }
 ],
 "metadata": {
  "orig_nbformat": 4,
  "language_info": {
   "name": "python",
   "version": "3.8.6",
   "mimetype": "text/x-python",
   "codemirror_mode": {
    "name": "ipython",
    "version": 3
   },
   "pygments_lexer": "ipython3",
   "nbconvert_exporter": "python",
   "file_extension": ".py"
  },
  "kernelspec": {
   "name": "python3",
   "display_name": "Python 3.8.6 64-bit"
  },
  "interpreter": {
   "hash": "2db524e06e9f5f4ffedc911c917cb75e12dbc923643829bf417064a77eb14d37"
  }
 },
 "nbformat": 4,
 "nbformat_minor": 2
}