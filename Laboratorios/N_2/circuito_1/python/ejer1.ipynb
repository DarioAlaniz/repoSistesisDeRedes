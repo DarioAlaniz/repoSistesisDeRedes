{
 "cells": [
  {
   "cell_type": "code",
   "execution_count": 2,
   "source": [
    "import numpy as np  #Importa libreria numerica \r\n",
    "import sympy as sym #simbolica\r\n",
    "sym.init_printing() #activa a jupyter para mostrar simbolicamente el output"
   ],
   "outputs": [],
   "metadata": {}
  },
  {
   "cell_type": "markdown",
   "source": [
    "# Ganancias"
   ],
   "metadata": {}
  },
  {
   "cell_type": "code",
   "execution_count": 100,
   "source": [
    "v1, v2, Vo          = sym.symbols('v_1,v_2,Vo')\r\n",
    "Rin,Rf,R        = sym.symbols('R_in,R_f,R')\r\n",
    "vo              = sym.Function('v_o')(v1,v2)\r\n",
    "sym.pprint(vo)\r\n",
    "#ganancias:\r\n",
    "eq1             = sym.Eq(vo.subs(v2,0),-v1*(Rf/R))\r\n",
    "sym.pprint(eq1)\r\n",
    "eq2             = sym.Eq(vo.subs(v1,0),-v2*(Rf/R))\r\n",
    "sym.pprint(eq2)\r\n",
    "eq3             = sym.Eq(vo,eq1.rhs+eq2.rhs)\r\n",
    "sym.pprint(sym.simplify(eq3))"
   ],
   "outputs": [
    {
     "output_type": "stream",
     "name": "stdout",
     "text": [
      "vₒ(v₁, v₂)\n",
      "            -R_f⋅v₁ \n",
      "vₒ(v₁, 0) = ────────\n",
      "               R    \n",
      "            -R_f⋅v₂ \n",
      "vₒ(0, v₂) = ────────\n",
      "               R    \n",
      "             -R_f⋅(v₁ + v₂) \n",
      "vₒ(v₁, v₂) = ───────────────\n",
      "                    R       \n"
     ]
    }
   ],
   "metadata": {}
  },
  {
   "cell_type": "markdown",
   "source": [
    "# Calculo de resistencias"
   ],
   "metadata": {}
  },
  {
   "cell_type": "markdown",
   "source": [
    "## Rin = 50 ohm"
   ],
   "metadata": {}
  },
  {
   "cell_type": "code",
   "execution_count": 26,
   "source": [
    "eq_Rin          = sym.Eq(Rin,50)\r\n",
    "sym.pprint(eq_Rin)\r\n",
    "eq_R            = sym.Eq(R,10*Rin)\r\n",
    "sym.pprint(eq_R)\r\n",
    "sym.pprint(sym.Eq(R,eq_R.rhs.subs(Rin,eq_Rin.rhs)))\r\n",
    "eq_Rf           = sym.Eq(Rf,30*eq_R.rhs)\r\n",
    "sym.pprint(eq_Rf)\r\n",
    "sym.pprint(sym.Eq(Rf,30*eq_R.rhs.subs(Rin,eq_Rin.rhs)))"
   ],
   "outputs": [
    {
     "output_type": "stream",
     "name": "stdout",
     "text": [
      "Rᵢₙ = 50\n",
      "R = 10⋅Rᵢₙ\n",
      "R = 500\n",
      "R_f = 300⋅Rᵢₙ\n",
      "R_f = 15000\n"
     ]
    }
   ],
   "metadata": {}
  },
  {
   "cell_type": "markdown",
   "source": [
    "## Rin = 100k ohm"
   ],
   "metadata": {}
  },
  {
   "cell_type": "code",
   "execution_count": 91,
   "source": [
    "eq_Rin          = sym.Eq(Rin,100e3)\r\n",
    "sym.pprint(eq_Rin)\r\n",
    "eq_R            = sym.Eq(R,10*Rin)\r\n",
    "sym.pprint(eq_R)\r\n",
    "eq_Rf           = sym.Eq(Rf,30*eq_R.rhs)\r\n",
    "sym.pprint(eq_Rf)\r\n",
    "print('Reemplazando: ')\r\n",
    "eq_R            = sym.Eq(R,eq_R.rhs.subs(Rin,eq_Rin.rhs)) \r\n",
    "sym.pprint(eq_R)\r\n",
    "sym.pprint(\"{:.1e}\".format(eq_R.rhs))\r\n",
    "eq_Rf           = sym.Eq(Rf,30*eq_R.rhs.subs(Rin,eq_Rin.rhs))\r\n",
    "sym.pprint(eq_Rf)\r\n",
    "sym.pprint(\"{:.1e}\".format(eq_Rf.rhs))\r\n"
   ],
   "outputs": [
    {
     "output_type": "stream",
     "name": "stdout",
     "text": [
      "Rᵢₙ = 100000.0\n",
      "R = 10⋅Rᵢₙ\n",
      "R_f = 300⋅Rᵢₙ\n",
      "Reemplazando: \n",
      "R = 1000000.0\n",
      "1.0e+6\n",
      "R_f = 30000000.0\n",
      "3.0e+7\n"
     ]
    }
   ],
   "metadata": {}
  },
  {
   "cell_type": "markdown",
   "source": [
    "# Caso de Rf > 1Meg[ohm]\r\n",
    "## Se emplea una red T para solucionar este problema\r\n",
    "![image](red_T.png)"
   ],
   "metadata": {}
  },
  {
   "cell_type": "code",
   "execution_count": 73,
   "source": [
    "voTh,iF,vx = sym.symbols('vo_th,i_f,v_x')\r\n",
    "Ra,Rb,Rc,P_RaRc    = sym.symbols('Ra,Rb,Rc,P_Ra_Rc')\r\n",
    "eq4         = sym.Eq(iF,vx/Ra)\r\n",
    "sym.pprint(eq4)\r\n",
    "eq_Pall_Ra_Rc = sym.Eq(P_RaRc,1/((1/Ra)+(1/Rc)))\r\n",
    "eq_Pall_Ra_Rc = sym.simplify(eq_Pall_Ra_Rc) \r\n",
    "sym.pprint(eq_Pall_Ra_Rc)\r\n",
    "eq5         = sym.Eq(vx,voTh*(eq_Pall_Ra_Rc.rhs/(eq_Pall_Ra_Rc.rhs+Rb)))\r\n",
    "sym.pprint(eq5)\r\n",
    "eq6         = sym.Eq(eq4.lhs,eq4.rhs.subs(vx,eq5.rhs))\r\n",
    "sym.pprint(eq6)\r\n",
    "eq6         = sym.separatevars(sym.simplify(eq6),force=True) \r\n",
    "sym.pprint(eq6)\r\n",
    "print('Con: ')\r\n",
    "eq7         = sym.Eq(Rf,voTh/iF)\r\n",
    "sym.pprint(eq7)\r\n",
    "print('Resulta: ')\r\n",
    "eq_Rf_T     = sym.Eq(Rf,(1/eq6.rhs)*voTh)\r\n",
    "sym.pprint(eq_Rf_T)"
   ],
   "outputs": [
    {
     "output_type": "stream",
     "name": "stdout",
     "text": [
      "      vₓ\n",
      "i_f = ──\n",
      "      Ra\n",
      "           Ra⋅Rc \n",
      "P_Ra_Rc = ───────\n",
      "          Ra + Rc\n",
      "            Ra⋅Rc⋅voₜₕ       \n",
      "vₓ = ────────────────────────\n",
      "               ⎛ Ra⋅Rc      ⎞\n",
      "     (Ra + Rc)⋅⎜─────── + Rb⎟\n",
      "               ⎝Ra + Rc     ⎠\n",
      "              Rc⋅voₜₕ         \n",
      "i_f = ────────────────────────\n",
      "                ⎛ Ra⋅Rc      ⎞\n",
      "      (Ra + Rc)⋅⎜─────── + Rb⎟\n",
      "                ⎝Ra + Rc     ⎠\n",
      "             Rc⋅voₜₕ       \n",
      "i_f = ─────────────────────\n",
      "      Ra⋅Rb + Ra⋅Rc + Rb⋅Rc\n",
      "Con: \n",
      "      voₜₕ\n",
      "R_f = ────\n",
      "      i_f \n",
      "Resulta: \n",
      "      Ra⋅Rb + Ra⋅Rc + Rb⋅Rc\n",
      "R_f = ─────────────────────\n",
      "                Rc         \n"
     ]
    }
   ],
   "metadata": {}
  },
  {
   "cell_type": "markdown",
   "source": [
    "## Calculos de Ra,Rb,Rc"
   ],
   "metadata": {}
  },
  {
   "cell_type": "code",
   "execution_count": 90,
   "source": [
    "eq_Rc       = sym.Eq(Rc,sym.solve(eq_Rf_T,Rc)[0])#el [0] es por que solve devuelve una lista\r\n",
    "sym.pprint(eq_Rc)\r\n",
    "#Reemplazando y estableciendo Ra=150k;Rb=200k\r\n",
    "eq_Rc_val   = sym.Eq(Rc,eq_Rc.rhs.subs({Ra:150e3,Rb:200e3,Rf:eq_Rf.rhs}))\r\n",
    "sym.pprint(eq_Rc_val)"
   ],
   "outputs": [
    {
     "output_type": "stream",
     "name": "stdout",
     "text": [
      "         Ra⋅Rb    \n",
      "Rc = ─────────────\n",
      "     R_f - Ra - Rb\n",
      "R_f = 30000000.0\n",
      "Rc = 1011.80438448567\n"
     ]
    }
   ],
   "metadata": {}
  },
  {
   "cell_type": "markdown",
   "source": [
    "# Errores en DC\r\n",
    "![image](circ_por_black.png)"
   ],
   "metadata": {}
  },
  {
   "cell_type": "markdown",
   "source": [
    "## Caso de Rin = 50 ohm\r\n",
    "### Ganancias"
   ],
   "metadata": {}
  },
  {
   "cell_type": "code",
   "execution_count": 123,
   "source": [
    "Af,Av,T,Ad  = sym.symbols('A_f,A_v,T,Ad')\r\n",
    "#Ganancia de a lazo abierto\r\n",
    "#Av = Vo/(V1+V2)\r\n",
    "# aplico superposicion\r\n",
    "# Vo/V1 = v-/V1 * Vo/v- con V2=0\r\n",
    "eq8         = sym.Eq(Vo/v1,(((R**-1+Rf**-1)**-1)/(((R**-1+Rf**-1)**-1)+R))*-Ad*v1)\r\n",
    "sym.pprint(eq8)\r\n",
    "eq9         = sym.Eq(Vo/v2,(((R**-1+Rf**-1)**-1)/(((R**-1+Rf**-1)**-1)+R))*-Ad*v2)\r\n",
    "sym.pprint(eq9)\r\n",
    "eq10        = sym.Eq(Vo,(eq9.rhs+eq8.rhs))\r\n",
    "sym.pprint(sym.simplify(eq10))\r\n",
    "eq_Av       = sym.Eq(Av,(-Ad*Rf)/(R+(2*Rf)))\r\n",
    "sym.pprint(eq_Av)\r\n",
    "\r\n"
   ],
   "outputs": [
    {
     "output_type": "stream",
     "name": "stdout",
     "text": [
      "Vo           -Ad⋅v₁         \n",
      "── = ───────────────────────\n",
      "v₁   ⎛       1   ⎞ ⎛ 1    1⎞\n",
      "     ⎜R + ───────⎟⋅⎜─── + ─⎟\n",
      "     ⎜     1    1⎟ ⎝R_f   R⎠\n",
      "     ⎜    ─── + ─⎟          \n",
      "     ⎝    R_f   R⎠          \n",
      "Vo           -Ad⋅v₂         \n",
      "── = ───────────────────────\n",
      "v₂   ⎛       1   ⎞ ⎛ 1    1⎞\n",
      "     ⎜R + ───────⎟⋅⎜─── + ─⎟\n",
      "     ⎜     1    1⎟ ⎝R_f   R⎠\n",
      "     ⎜    ─── + ─⎟          \n",
      "     ⎝    R_f   R⎠          \n",
      "     -Ad⋅R_f⋅(v₁ + v₂) \n",
      "Vo = ──────────────────\n",
      "         R + 2⋅R_f     \n",
      "      -Ad⋅R_f \n",
      "Aᵥ = ─────────\n",
      "     R + 2⋅R_f\n"
     ]
    }
   ],
   "metadata": {}
  },
  {
   "cell_type": "code",
   "execution_count": 122,
   "source": [
    "#Ganancia de lazo \r\n",
    "#T = Vo/V' = Vo/V- * V-/V'\r\n",
    "\r\n",
    "eq_T        = sym.Eq(T,(((R**-1+R**-1)**-1)/(((R**-1+R**-1)**-1)+Rf))*-Ad)\r\n",
    "sym.pprint(eq_T)\r\n",
    "eq_T        = sym.simplify(eq_T)\r\n",
    "sym.pprint(eq_T)\r\n"
   ],
   "outputs": [
    {
     "output_type": "stream",
     "name": "stdout",
     "text": [
      "       -Ad⋅R   \n",
      "T = ───────────\n",
      "      ⎛R      ⎞\n",
      "    2⋅⎜─ + R_f⎟\n",
      "      ⎝2      ⎠\n",
      "      -Ad⋅R  \n",
      "T = ─────────\n",
      "    R + 2⋅R_f\n"
     ]
    }
   ],
   "metadata": {}
  },
  {
   "cell_type": "code",
   "execution_count": 129,
   "source": [
    "#Ganancia de lazo cerrado\r\n",
    "eq_Af       = sym.Eq(Af,eq_Av.rhs/(1-eq_T.rhs))\r\n",
    "sym.pprint(eq_Af)\r\n",
    "eq_Af       = sym.simplify(eq_Af)\r\n",
    "sym.pprint(eq_Af)\r\n",
    "#Reemplazando\r\n",
    "sym.pprint(eq_Af.subs({R:500,Rf:15e3,Ad:200e3}))"
   ],
   "outputs": [
    {
     "output_type": "stream",
     "name": "stdout",
     "text": [
      "                -Ad⋅R_f          \n",
      "A_f = ───────────────────────────\n",
      "                  ⎛   Ad⋅R      ⎞\n",
      "      (R + 2⋅R_f)⋅⎜───────── + 1⎟\n",
      "                  ⎝R + 2⋅R_f    ⎠\n",
      "          -Ad⋅R_f     \n",
      "A_f = ────────────────\n",
      "      Ad⋅R + R + 2⋅R_f\n",
      "A_f = -29.9908527898991\n"
     ]
    }
   ],
   "metadata": {}
  },
  {
   "cell_type": "markdown",
   "source": [
    "### Error por Vos\r\n",
    "![image](error_vos.png)"
   ],
   "metadata": {}
  },
  {
   "cell_type": "code",
   "execution_count": 135,
   "source": [
    "vos,dvo_vos         = sym.symbols('V_os,\\Delta_Vo')\r\n",
    "#Ganancia a lazo abierto en este caso es Vo/Vos = Ad\r\n",
    "eq_error_vos    = sym.Eq(dvo_vos,(Ad*vos)/(1-eq_T.rhs))\r\n",
    "sym.pprint(eq_error_vos)\r\n",
    "sym.pprint(sym.simplify(eq_error_vos))"
   ],
   "outputs": [
    {
     "output_type": "stream",
     "name": "stdout",
     "text": [
      "                Ad⋅Vₒₛ   \n",
      "\\Delta_Vo = ─────────────\n",
      "               Ad⋅R      \n",
      "            ───────── + 1\n",
      "            R + 2⋅R_f    \n",
      "            Ad⋅Vₒₛ⋅(R + 2⋅R_f)\n",
      "\\Delta_Vo = ──────────────────\n",
      "             Ad⋅R + R + 2⋅R_f \n"
     ]
    }
   ],
   "metadata": {}
  },
  {
   "cell_type": "markdown",
   "source": [
    "### Error por corriente Ios\r\n",
    "![image](error_ios.png)"
   ],
   "metadata": {}
  },
  {
   "cell_type": "code",
   "execution_count": 145,
   "source": [
    "Ipol_n,dvo_Ios         = sym.symbols('I_pol-,\\Delta_Vo')\r\n",
    "#como en la entrada no inversora no hay corriente entonces no produce caida de tension, por lo tanto no hay salida\r\n",
    "#pero aumenta el error total\r\n",
    "eq_error_Ios        = sym.Eq(dvo_Ios,(Ipol_n*-Ad*-((R**-1+R**-1+Rf**-1)**-1))/(1-eq_T.rhs))\r\n",
    "sym.pprint(eq_error_Ios)\r\n",
    "sym.pprint(sym.simplify(eq_error_Ios))"
   ],
   "outputs": [
    {
     "output_type": "stream",
     "name": "stdout",
     "text": [
      "                     Ad⋅Iₚₒₗ₋        \n",
      "\\Delta_Vo = ─────────────────────────\n",
      "            ⎛ 1    2⎞ ⎛   Ad⋅R      ⎞\n",
      "            ⎜─── + ─⎟⋅⎜───────── + 1⎟\n",
      "            ⎝R_f   R⎠ ⎝R + 2⋅R_f    ⎠\n",
      "             Ad⋅Iₚₒₗ₋⋅R⋅R_f \n",
      "\\Delta_Vo = ────────────────\n",
      "            Ad⋅R + R + 2⋅R_f\n"
     ]
    }
   ],
   "metadata": {}
  },
  {
   "cell_type": "markdown",
   "source": [
    "### Error por CMRR y Ad no infinito\r\n",
    "\r\n"
   ],
   "metadata": {}
  },
  {
   "cell_type": "code",
   "execution_count": 151,
   "source": [
    "\r\n",
    "FS, CMRR,dv_Ad_CMRR = sym.symbols('FS, CMRR,\\delta_Vo')\r\n",
    "eq_error_Ad_CMRR    = sym.Eq(dv_Ad_CMRR,(FS/abs(T)+FS/CMRR))\r\n",
    "sym.pprint(sym.sympify(eq_error_Ad_CMRR))\r\n"
   ],
   "outputs": [
    {
     "output_type": "stream",
     "name": "stdout",
     "text": [
      "             FS    FS \n",
      "\\delta_Vo = ─── + ────\n",
      "            │T│   CMRR\n"
     ]
    }
   ],
   "metadata": {}
  },
  {
   "cell_type": "markdown",
   "source": [
    "# Errores en Ac\r\n",
    "## Ancho de banda plena potencia"
   ],
   "metadata": {}
  },
  {
   "cell_type": "code",
   "execution_count": 157,
   "source": [
    "SR,Vp,Whp,fhp,t,W = sym.symbols('SR,V_pp,W_hp,f_hp,t,W')\r\n",
    "# por definicion el SR = dv(t)/t\r\n",
    "SR = sym.Function('SR')()\r\n",
    "V_o = sym.Function('V_o')(t)\r\n",
    "eq_SR=sym.Eq(SR,sym.diff(V_o))\r\n",
    "sym.pprint(eq_SR)\r\n",
    "\r\n",
    "eq_Vo_t=sym.Eq(Vo,Vp*sym.sin(W*t))\r\n",
    "sym.pprint(eq_Vo_t)\r\n",
    "eq_SR=sym.Eq(SR,sym.diff(eq_Vo_t.rhs,t).subs(t,0))\r\n",
    "sym.pprint(eq_SR)\r\n",
    "eq_Whp=sym.Eq(Whp,sym.solve(eq_SR,W)[0])\r\n",
    "sym.pprint(eq_Whp)\r\n",
    "\r\n",
    "# eq_Whp_val=eq_Whp.subs({SR:500e3, Vp:10})\r\n",
    "# sym.pprint(eq_Whp_val)\r\n",
    "# eq_fhp_val=sym.Eq(fhp,eq_Whp_val.rhs/(2*np.pi))\r\n",
    "# sym.pprint(eq_fhp_val)"
   ],
   "outputs": [
    {
     "output_type": "stream",
     "name": "stdout",
     "text": [
      "       d        \n",
      "SR() = ──(Vₒ(t))\n",
      "       dt       \n",
      "Vo = Vₚₚ⋅sin(W⋅t)\n",
      "SR() = Vₚₚ⋅W\n",
      "      SR()\n",
      "Wₕₚ = ────\n",
      "      Vₚₚ \n",
      "Wₕₚ = 50000.0\n",
      "fₕₚ = 7957.74715459477\n"
     ]
    }
   ],
   "metadata": {}
  }
 ],
 "metadata": {
  "orig_nbformat": 4,
  "language_info": {
   "name": "python",
   "version": "3.8.6",
   "mimetype": "text/x-python",
   "codemirror_mode": {
    "name": "ipython",
    "version": 3
   },
   "pygments_lexer": "ipython3",
   "nbconvert_exporter": "python",
   "file_extension": ".py"
  },
  "kernelspec": {
   "name": "python3",
   "display_name": "Python 3.8.6 64-bit"
  },
  "interpreter": {
   "hash": "2db524e06e9f5f4ffedc911c917cb75e12dbc923643829bf417064a77eb14d37"
  }
 },
 "nbformat": 4,
 "nbformat_minor": 2
}