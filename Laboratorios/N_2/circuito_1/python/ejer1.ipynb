{
 "cells": [
  {
   "cell_type": "code",
   "execution_count": 1,
   "metadata": {},
   "outputs": [],
   "source": [
    "import numpy as np  #Importa libreria numerica \n",
    "import sympy as sym #simbolica\n",
    "sym.init_printing() #activa a jupyter para mostrar simbolicamente el output"
   ]
  },
  {
   "cell_type": "markdown",
   "metadata": {},
   "source": [
    "# Ganancias"
   ]
  },
  {
   "cell_type": "code",
   "execution_count": 2,
   "metadata": {},
   "outputs": [
    {
     "name": "stdout",
     "output_type": "stream",
     "text": [
      "vₒ(v₁, v₂)\n",
      "            -R_f⋅v₁ \n",
      "vₒ(v₁, 0) = ────────\n",
      "               R    \n",
      "            -R_f⋅v₂ \n",
      "vₒ(0, v₂) = ────────\n",
      "               R    \n",
      "             -R_f⋅(v₁ + v₂) \n",
      "vₒ(v₁, v₂) = ───────────────\n",
      "                    R       \n"
     ]
    }
   ],
   "source": [
    "v1, v2, Vo          = sym.symbols('v_1,v_2,Vo')\n",
    "Rin,Rf,R        = sym.symbols('R_in,R_f,R')\n",
    "vo              = sym.Function('v_o')(v1,v2)\n",
    "sym.pprint(vo)\n",
    "#ganancias:\n",
    "eq1             = sym.Eq(vo.subs(v2,0),-v1*(Rf/R))\n",
    "sym.pprint(eq1)\n",
    "eq2             = sym.Eq(vo.subs(v1,0),-v2*(Rf/R))\n",
    "sym.pprint(eq2)\n",
    "eq3             = sym.Eq(vo,eq1.rhs+eq2.rhs)\n",
    "sym.pprint(sym.simplify(eq3))"
   ]
  },
  {
   "cell_type": "markdown",
   "metadata": {},
   "source": [
    "# Calculo de resistencias"
   ]
  },
  {
   "cell_type": "markdown",
   "metadata": {},
   "source": [
    "## Rin = 50 ohm"
   ]
  },
  {
   "cell_type": "code",
   "execution_count": 3,
   "metadata": {},
   "outputs": [
    {
     "name": "stdout",
     "output_type": "stream",
     "text": [
      "Rᵢₙ = 50\n",
      "R = 10⋅Rᵢₙ\n",
      "R = 500\n",
      "R_f = 300⋅Rᵢₙ\n",
      "R_f = 15000\n"
     ]
    }
   ],
   "source": [
    "eq_Rin          = sym.Eq(Rin,50)\n",
    "sym.pprint(eq_Rin)\n",
    "eq_R            = sym.Eq(R,10*Rin)\n",
    "sym.pprint(eq_R)\n",
    "sym.pprint(sym.Eq(R,eq_R.rhs.subs(Rin,eq_Rin.rhs)))\n",
    "eq_Rf           = sym.Eq(Rf,30*eq_R.rhs)\n",
    "sym.pprint(eq_Rf)\n",
    "sym.pprint(sym.Eq(Rf,30*eq_R.rhs.subs(Rin,eq_Rin.rhs)))"
   ]
  },
  {
   "cell_type": "markdown",
   "metadata": {},
   "source": [
    "## Rin = 100k ohm"
   ]
  },
  {
   "cell_type": "code",
   "execution_count": 4,
   "metadata": {},
   "outputs": [
    {
     "name": "stdout",
     "output_type": "stream",
     "text": [
      "Rᵢₙ = 100000.0\n",
      "R = 10⋅Rᵢₙ\n",
      "R_f = 300⋅Rᵢₙ\n",
      "Reemplazando: \n",
      "R = 1000000.0\n",
      "1.0e+6\n",
      "R_f = 30000000.0\n",
      "3.0e+7\n"
     ]
    }
   ],
   "source": [
    "eq_Rin          = sym.Eq(Rin,100e3)\n",
    "sym.pprint(eq_Rin)\n",
    "eq_R            = sym.Eq(R,10*Rin)\n",
    "sym.pprint(eq_R)\n",
    "eq_Rf           = sym.Eq(Rf,30*eq_R.rhs)\n",
    "sym.pprint(eq_Rf)\n",
    "print('Reemplazando: ')\n",
    "eq_R            = sym.Eq(R,eq_R.rhs.subs(Rin,eq_Rin.rhs)) \n",
    "sym.pprint(eq_R)\n",
    "sym.pprint(\"{:.1e}\".format(eq_R.rhs))\n",
    "eq_Rf           = sym.Eq(Rf,30*eq_R.rhs.subs(Rin,eq_Rin.rhs))\n",
    "sym.pprint(eq_Rf)\n",
    "sym.pprint(\"{:.1e}\".format(eq_Rf.rhs))\n"
   ]
  },
  {
   "cell_type": "markdown",
   "metadata": {},
   "source": [
    "# Caso de Rf > 1Meg[ohm]\n",
    "## Se emplea una red T para solucionar este problema\n",
    "![image](red_T.png)"
   ]
  },
  {
   "cell_type": "code",
   "execution_count": 5,
   "metadata": {},
   "outputs": [
    {
     "name": "stdout",
     "output_type": "stream",
     "text": [
      "      vₓ\n",
      "i_f = ──\n",
      "      Ra\n",
      "           Ra⋅Rc \n",
      "P_Ra_Rc = ───────\n",
      "          Ra + Rc\n",
      "            Ra⋅Rc⋅voₜₕ       \n",
      "vₓ = ────────────────────────\n",
      "               ⎛ Ra⋅Rc      ⎞\n",
      "     (Ra + Rc)⋅⎜─────── + Rb⎟\n",
      "               ⎝Ra + Rc     ⎠\n",
      "              Rc⋅voₜₕ         \n",
      "i_f = ────────────────────────\n",
      "                ⎛ Ra⋅Rc      ⎞\n",
      "      (Ra + Rc)⋅⎜─────── + Rb⎟\n",
      "                ⎝Ra + Rc     ⎠\n",
      "             Rc⋅voₜₕ       \n",
      "i_f = ─────────────────────\n",
      "      Ra⋅Rb + Ra⋅Rc + Rb⋅Rc\n",
      "Con: \n",
      "      voₜₕ\n",
      "R_f = ────\n",
      "      i_f \n",
      "Resulta: \n",
      "      Ra⋅Rb + Ra⋅Rc + Rb⋅Rc\n",
      "R_f = ─────────────────────\n",
      "                Rc         \n"
     ]
    }
   ],
   "source": [
    "voTh,iF,vx = sym.symbols('vo_th,i_f,v_x')\n",
    "Ra,Rb,Rc,P_RaRc    = sym.symbols('Ra,Rb,Rc,P_Ra_Rc')\n",
    "eq4         = sym.Eq(iF,vx/Ra)\n",
    "sym.pprint(eq4)\n",
    "eq_Pall_Ra_Rc = sym.Eq(P_RaRc,1/((1/Ra)+(1/Rc)))\n",
    "eq_Pall_Ra_Rc = sym.simplify(eq_Pall_Ra_Rc) \n",
    "sym.pprint(eq_Pall_Ra_Rc)\n",
    "eq5         = sym.Eq(vx,voTh*(eq_Pall_Ra_Rc.rhs/(eq_Pall_Ra_Rc.rhs+Rb)))\n",
    "sym.pprint(eq5)\n",
    "eq6         = sym.Eq(eq4.lhs,eq4.rhs.subs(vx,eq5.rhs))\n",
    "sym.pprint(eq6)\n",
    "eq6         = sym.separatevars(sym.simplify(eq6),force=True) \n",
    "sym.pprint(eq6)\n",
    "print('Con: ')\n",
    "eq7         = sym.Eq(Rf,voTh/iF)\n",
    "sym.pprint(eq7)\n",
    "print('Resulta: ')\n",
    "eq_Rf_T     = sym.Eq(Rf,(1/eq6.rhs)*voTh)\n",
    "sym.pprint(eq_Rf_T)"
   ]
  },
  {
   "cell_type": "markdown",
   "metadata": {},
   "source": [
    "## Calculos de Ra,Rb,Rc"
   ]
  },
  {
   "cell_type": "code",
   "execution_count": 6,
   "metadata": {},
   "outputs": [
    {
     "name": "stdout",
     "output_type": "stream",
     "text": [
      "         Ra⋅Rb    \n",
      "Rc = ─────────────\n",
      "     R_f - Ra - Rb\n",
      "Rc = 1011.80438448567\n"
     ]
    }
   ],
   "source": [
    "eq_Rc       = sym.Eq(Rc,sym.solve(eq_Rf_T,Rc)[0])#el [0] es por que solve devuelve una lista\n",
    "sym.pprint(eq_Rc)\n",
    "#Reemplazando y estableciendo Ra=150k;Rb=200k\n",
    "eq_Rc_val   = sym.Eq(Rc,eq_Rc.rhs.subs({Ra:150e3,Rb:200e3,Rf:eq_Rf.rhs}))\n",
    "sym.pprint(eq_Rc_val)"
   ]
  },
  {
   "cell_type": "markdown",
   "metadata": {},
   "source": [
    "# Errores en DC\n",
    "![image](circ_por_black.png)"
   ]
  },
  {
   "cell_type": "markdown",
   "metadata": {},
   "source": [
    "## Caso de Rin = 50 ohm\n",
    "### Ganancias"
   ]
  },
  {
   "cell_type": "code",
   "execution_count": 7,
   "metadata": {},
   "outputs": [
    {
     "name": "stdout",
     "output_type": "stream",
     "text": [
      "Vo           -Ad⋅v₁         \n",
      "── = ───────────────────────\n",
      "v₁   ⎛       1   ⎞ ⎛ 1    1⎞\n",
      "     ⎜R + ───────⎟⋅⎜─── + ─⎟\n",
      "     ⎜     1    1⎟ ⎝R_f   R⎠\n",
      "     ⎜    ─── + ─⎟          \n",
      "     ⎝    R_f   R⎠          \n",
      "Vo           -Ad⋅v₂         \n",
      "── = ───────────────────────\n",
      "v₂   ⎛       1   ⎞ ⎛ 1    1⎞\n",
      "     ⎜R + ───────⎟⋅⎜─── + ─⎟\n",
      "     ⎜     1    1⎟ ⎝R_f   R⎠\n",
      "     ⎜    ─── + ─⎟          \n",
      "     ⎝    R_f   R⎠          \n",
      "     -Ad⋅R_f⋅(v₁ + v₂) \n",
      "Vo = ──────────────────\n",
      "         R + 2⋅R_f     \n",
      "      -Ad⋅R_f \n",
      "Aᵥ = ─────────\n",
      "     R + 2⋅R_f\n"
     ]
    }
   ],
   "source": [
    "Af,Av,T,Ad  = sym.symbols('A_f,A_v,T,Ad')\n",
    "#Ganancia de a lazo abierto\n",
    "#Av = Vo/(V1+V2)\n",
    "# aplico superposicion\n",
    "# Vo/V1 = v-/V1 * Vo/v- con V2=0\n",
    "eq8         = sym.Eq(Vo/v1,(((R**-1+Rf**-1)**-1)/(((R**-1+Rf**-1)**-1)+R))*-Ad*v1)\n",
    "sym.pprint(eq8)\n",
    "eq9         = sym.Eq(Vo/v2,(((R**-1+Rf**-1)**-1)/(((R**-1+Rf**-1)**-1)+R))*-Ad*v2)\n",
    "sym.pprint(eq9)\n",
    "eq10        = sym.Eq(Vo,(eq9.rhs+eq8.rhs))\n",
    "sym.pprint(sym.simplify(eq10))\n",
    "eq_Av       = sym.Eq(Av,(-Ad*Rf)/(R+(2*Rf)))\n",
    "sym.pprint(eq_Av)\n",
    "\n"
   ]
  },
  {
   "cell_type": "code",
   "execution_count": 8,
   "metadata": {},
   "outputs": [
    {
     "name": "stdout",
     "output_type": "stream",
     "text": [
      "       -Ad⋅R   \n",
      "T = ───────────\n",
      "      ⎛R      ⎞\n",
      "    2⋅⎜─ + R_f⎟\n",
      "      ⎝2      ⎠\n",
      "      -Ad⋅R  \n",
      "T = ─────────\n",
      "    R + 2⋅R_f\n"
     ]
    }
   ],
   "source": [
    "#Ganancia de lazo \n",
    "#T = Vo/V' = Vo/V- * V-/V'\n",
    "\n",
    "eq_T        = sym.Eq(T,(((R**-1+R**-1)**-1)/(((R**-1+R**-1)**-1)+Rf))*-Ad)\n",
    "sym.pprint(eq_T)\n",
    "eq_T        = sym.simplify(eq_T)\n",
    "sym.pprint(eq_T)\n"
   ]
  },
  {
   "cell_type": "code",
   "execution_count": 9,
   "metadata": {},
   "outputs": [
    {
     "name": "stdout",
     "output_type": "stream",
     "text": [
      "                -Ad⋅R_f          \n",
      "A_f = ───────────────────────────\n",
      "                  ⎛   Ad⋅R      ⎞\n",
      "      (R + 2⋅R_f)⋅⎜───────── + 1⎟\n",
      "                  ⎝R + 2⋅R_f    ⎠\n",
      "          -Ad⋅R_f     \n",
      "A_f = ────────────────\n",
      "      Ad⋅R + R + 2⋅R_f\n",
      "A_f = -29.9908527898991\n"
     ]
    }
   ],
   "source": [
    "#Ganancia de lazo cerrado\n",
    "eq_Af       = sym.Eq(Af,eq_Av.rhs/(1-eq_T.rhs))\n",
    "sym.pprint(eq_Af)\n",
    "eq_Af       = sym.simplify(eq_Af)\n",
    "sym.pprint(eq_Af)\n",
    "#Reemplazando\n",
    "sym.pprint(eq_Af.subs({R:500,Rf:15e3,Ad:200e3}))"
   ]
  },
  {
   "cell_type": "markdown",
   "metadata": {},
   "source": [
    "### Error por Vos\n",
    "![image](error_vos.png)"
   ]
  },
  {
   "cell_type": "code",
   "execution_count": 15,
   "metadata": {},
   "outputs": [
    {
     "name": "stdout",
     "output_type": "stream",
     "text": [
      "                Ad⋅Vₒₛ   \n",
      "\\Delta_Vo = ─────────────\n",
      "               Ad⋅R      \n",
      "            ───────── + 1\n",
      "            R + 2⋅R_f    \n",
      "            Ad⋅Vₒₛ⋅(R + 2⋅R_f)\n",
      "\\Delta_Vo = ──────────────────\n",
      "             Ad⋅R + R + 2⋅R_f \n",
      "\\Delta_{Vo} = \\frac{Ad V_{os} \\left(R + 2 R_{f}\\right)}{Ad R + R + 2 R_{f}}\n",
      "Vₒₛ⋅(R + 2⋅R_f)\n",
      "───────────────\n",
      "       R       \n",
      "\\Delta_Vo = 0.0021199775282382\n"
     ]
    }
   ],
   "source": [
    "vos,dvo_vos         = sym.symbols('V_os,\\Delta_Vo')\n",
    "#Ganancia a lazo abierto en este caso es Vo/Vos = Ad\n",
    "eq_error_vos    = sym.Eq(dvo_vos,(Ad*vos)/(1-eq_T.rhs))\n",
    "sym.pprint(eq_error_vos)\n",
    "sym.pprint(sym.simplify(eq_error_vos))\n",
    "sym.print_latex(sym.simplify(eq_error_vos))\n",
    "\n",
    "#caso 2 Rf = 30Mohm\n",
    "eq_error_vos_val =  eq_error_vos.subs({Ad:100e3,vos:2e-3,R:1e6,Rf:30e3})\n",
    "#Tomando el limite Ad-->inf\n",
    "sym.pprint(sym.limit_seq(sym.simplify(eq_error_vos.rhs),Ad))\n",
    "sym.pprint(eq_error_vos_val)"
   ]
  },
  {
   "cell_type": "markdown",
   "metadata": {},
   "source": [
    "### Error por corriente Ios\n",
    "![image](error_ios.png)"
   ]
  },
  {
   "cell_type": "code",
   "execution_count": 21,
   "metadata": {},
   "outputs": [
    {
     "name": "stdout",
     "output_type": "stream",
     "text": [
      "                     Ad⋅Iₚₒₗ₋        \n",
      "\\Delta_Vo = ─────────────────────────\n",
      "            ⎛ 1    2⎞ ⎛   Ad⋅R      ⎞\n",
      "            ⎜─── + ─⎟⋅⎜───────── + 1⎟\n",
      "            ⎝R_f   R⎠ ⎝R + 2⋅R_f    ⎠\n",
      "             Ad⋅Iₚₒₗ₋⋅R⋅R_f \n",
      "\\Delta_Vo = ────────────────\n",
      "            Ad⋅R + R + 2⋅R_f\n",
      "Iₚₒₗ₋⋅R_f\n",
      "\\Delta_Vo = 0.000674588501014381\n"
     ]
    }
   ],
   "source": [
    "Ipol_n,dvo_Ios         = sym.symbols('I_pol-,\\Delta_Vo')\n",
    "#como en la entrada no inversora no hay corriente entonces no produce caida de tension, por lo tanto no hay salida\n",
    "#pero aumenta el error total\n",
    "eq_error_Ios        = sym.Eq(dvo_Ios,(Ipol_n*-Ad*-((R**-1+R**-1+Rf**-1)**-1))/(1-eq_T.rhs))\n",
    "sym.pprint(eq_error_Ios)\n",
    "sym.pprint(sym.simplify(eq_error_Ios))\n",
    "# sym.print_latex(sym.simplify(eq_error_Ios))\n",
    "#Tomando el limite Ad-->inf\n",
    "sym.pprint(sym.limit_seq(sym.simplify(eq_error_Ios.rhs),Ad))\n",
    "eq_error_Ios_val = eq_error_Ios.subs({Ad:100e3,Ipol_n:45e-9,R:500,Rf:15e3})\n",
    "sym.pprint(eq_error_Ios_val)\n"
   ]
  },
  {
   "cell_type": "markdown",
   "metadata": {},
   "source": [
    "### Error por CMRR y Ad no infinito\n",
    "\n"
   ]
  },
  {
   "cell_type": "code",
   "execution_count": null,
   "metadata": {},
   "outputs": [
    {
     "name": "stdout",
     "output_type": "stream",
     "text": [
      "             FS    FS \n",
      "\\delta_Vo = ─── + ────\n",
      "            │T│   CMRR\n"
     ]
    }
   ],
   "source": [
    "FS, CMRR,dv_Ad_CMRR = sym.symbols('FS, CMRR,\\delta_Vo')\n",
    "eq_error_Ad_CMRR    = sym.Eq(dv_Ad_CMRR,(FS/abs(T)+FS/CMRR))\n",
    "sym.pprint(sym.sympify(eq_error_Ad_CMRR))\n"
   ]
  },
  {
   "cell_type": "markdown",
   "metadata": {},
   "source": [
    "# Errores en Ac\n",
    "## Ancho de banda plena potencia"
   ]
  },
  {
   "cell_type": "code",
   "execution_count": 22,
   "metadata": {},
   "outputs": [
    {
     "name": "stdout",
     "output_type": "stream",
     "text": [
      "       d        \n",
      "SR() = ──(Vₒ(t))\n",
      "       dt       \n",
      "Vo = Vₚₚ⋅sin(W⋅t)\n",
      "SR() = Vₚₚ⋅W\n",
      "      SR()\n",
      "Wₕₚ = ────\n",
      "      Vₚₚ \n",
      "W_{hp} = \\frac{\\operatorname{SR}{\\left( \\right)}}{V_{pp}}\n"
     ]
    }
   ],
   "source": [
    "#SR=0.5 uV/seg\n",
    "SR,Vp,Whp,fhp,t,W = sym.symbols('SR,V_pp,W_hp,f_hp,t,W')\n",
    "# por definicion el SR = dv(t)/t\n",
    "SR = sym.Function('SR')()\n",
    "V_o = sym.Function('V_o')(t)\n",
    "eq_SR=sym.Eq(SR,sym.diff(V_o))\n",
    "sym.pprint(eq_SR)\n",
    "\n",
    "eq_Vo_t=sym.Eq(Vo,Vp*sym.sin(W*t))\n",
    "sym.pprint(eq_Vo_t)\n",
    "eq_SR=sym.Eq(SR,sym.diff(eq_Vo_t.rhs,t).subs(t,0))\n",
    "sym.pprint(eq_SR)\n",
    "eq_Whp=sym.Eq(Whp,sym.solve(eq_SR,W)[0])\n",
    "sym.pprint(eq_Whp)\n",
    "# sym.print_latex(eq_Whp)\n",
    "\n",
    "# eq_Whp_val=eq_Whp.subs({SR:500e3, Vp:10})\n",
    "# sym.pprint(eq_Whp_val)\n",
    "# eq_fhp_val=sym.Eq(fhp,eq_Whp_val.rhs/(2*np.pi))\n",
    "# sym.pprint(eq_fhp_val)"
   ]
  },
  {
   "cell_type": "markdown",
   "metadata": {},
   "source": [
    "## Ancho de banda de pequeña señal"
   ]
  },
  {
   "cell_type": "code",
   "execution_count": 23,
   "metadata": {},
   "outputs": [],
   "source": [
    "GBW=1e6\n",
    "Wh=GBW/Af #--> wh*1/k = GBW = w1*Ad0; Avfi=1/K\n",
    "WH1=2*np.pi*GBW/30"
   ]
  }
 ],
 "metadata": {
  "interpreter": {
   "hash": "2db524e06e9f5f4ffedc911c917cb75e12dbc923643829bf417064a77eb14d37"
  },
  "kernelspec": {
   "display_name": "Python 3.8.6 64-bit",
   "name": "python3"
  },
  "language_info": {
   "codemirror_mode": {
    "name": "ipython",
    "version": 3
   },
   "file_extension": ".py",
   "mimetype": "text/x-python",
   "name": "python",
   "nbconvert_exporter": "python",
   "pygments_lexer": "ipython3",
   "version": "3.8.6"
  },
  "orig_nbformat": 4
 },
 "nbformat": 4,
 "nbformat_minor": 2
}
